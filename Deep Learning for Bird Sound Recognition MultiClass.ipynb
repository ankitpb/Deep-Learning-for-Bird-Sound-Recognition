{
 "cells": [
  {
   "cell_type": "markdown",
   "id": "c432c160",
   "metadata": {},
   "source": [
    "### Importing Required Libraries for data loading, model building, evaluation, and visualization"
   ]
  },
  {
   "cell_type": "code",
   "execution_count": 38,
   "id": "68a67888",
   "metadata": {},
   "outputs": [],
   "source": [
    "import h5py\n",
    "import numpy as np\n",
    "import torch\n",
    "from torch.utils.data import TensorDataset, DataLoader, random_split\n",
    "from torch.utils.data import Dataset, DataLoader, WeightedRandomSampler\n",
    "import torchaudio.transforms as T\n",
    "import torch.nn as nn\n",
    "import torch.nn.functional as F\n",
    "import matplotlib.pyplot as plt\n",
    "from collections import defaultdict\n",
    "from sklearn.metrics import confusion_matrix, ConfusionMatrixDisplay\n",
    "from sklearn.metrics import accuracy_score, classification_report, confusion_matrix, ConfusionMatrixDisplay"
   ]
  },
  {
   "cell_type": "markdown",
   "id": "9633dfb6",
   "metadata": {},
   "source": [
    "### Loading HDF5 files and splitting the data for training"
   ]
  },
  {
   "cell_type": "code",
   "execution_count": 18,
   "id": "7574bdb3",
   "metadata": {},
   "outputs": [],
   "source": [
    "# Load and label spectrogram data for each species\n",
    "with h5py.File(file_path, 'r') as f:\n",
    "    keys = list(f.keys())\n",
    "    X_list, y_list = [], []\n",
    "    for idx, species in enumerate(keys):\n",
    "        data = np.transpose(f[species][:], (2, 0, 1))  # (samples, 128, 517)\n",
    "        labels = np.full(len(data), idx)\n",
    "        X_list.append(data)\n",
    "        y_list.append(labels)\n",
    "\n",
    "#Combine all species into a single dataset of X(features) and y(target)\n",
    "X = np.concatenate(X_list)\n",
    "y = np.concatenate(y_list)"
   ]
  },
  {
   "cell_type": "code",
   "execution_count": 20,
   "id": "8aaf2826",
   "metadata": {},
   "outputs": [
    {
     "data": {
      "text/plain": [
       "(1981, 128, 517)"
      ]
     },
     "execution_count": 20,
     "metadata": {},
     "output_type": "execute_result"
    }
   ],
   "source": [
    "X.shape"
   ]
  },
  {
   "cell_type": "code",
   "execution_count": 21,
   "id": "f8b22ec9",
   "metadata": {},
   "outputs": [
    {
     "data": {
      "text/plain": [
       "(1981,)"
      ]
     },
     "execution_count": 21,
     "metadata": {},
     "output_type": "execute_result"
    }
   ],
   "source": [
    "y.shape"
   ]
  },
  {
   "cell_type": "code",
   "execution_count": 22,
   "id": "7d2d4202",
   "metadata": {},
   "outputs": [],
   "source": [
    "perm = np.random.permutation(len(X))\n",
    "X = X[perm]\n",
    "y = y[perm]\n",
    "X_tensor = torch.tensor(X[:, np.newaxis, :, :], dtype=torch.float32)\n",
    "y_tensor = torch.tensor(y, dtype=torch.long)\n",
    "\n",
    "# Dataset split\n",
    "dataset = TensorDataset(X_tensor, y_tensor)\n",
    "train_size = int(0.7 * len(dataset))\n",
    "val_size = int(0.15 * len(dataset))\n",
    "test_size = len(dataset) - train_size - val_size\n",
    "train_ds, val_ds, test_ds = random_split(dataset, [train_size, val_size, test_size])\n",
    "train_loader = DataLoader(train_ds, batch_size=32, shuffle=True)\n",
    "val_loader = DataLoader(val_ds, batch_size=32)\n",
    "test_loader = DataLoader(test_ds, batch_size=32)"
   ]
  },
  {
   "cell_type": "code",
   "execution_count": 23,
   "id": "f516d538",
   "metadata": {},
   "outputs": [
    {
     "data": {
      "text/plain": [
       "torch.Size([1981, 1, 128, 517])"
      ]
     },
     "execution_count": 23,
     "metadata": {},
     "output_type": "execute_result"
    }
   ],
   "source": [
    "X_tensor.shape"
   ]
  },
  {
   "cell_type": "code",
   "execution_count": 24,
   "id": "ba456165",
   "metadata": {},
   "outputs": [],
   "source": [
    "#Conv. layer followed by batch normalization. Max pool of (2,2) followed by Adapative Avg. pool of (4,4) \n",
    "class BirdMultiClassCNN(nn.Module):\n",
    "    def __init__(self, num_classes):\n",
    "        super().__init__()\n",
    "        self.conv1 = nn.Conv2d(1, 16, kernel_size=3, padding=1)\n",
    "        self.bn1 = nn.BatchNorm2d(16)\n",
    "        self.conv2 = nn.Conv2d(16, 32, kernel_size=3, padding=1)\n",
    "        self.bn2 = nn.BatchNorm2d(32)\n",
    "        self.pool = nn.MaxPool2d(2, 2)\n",
    "        self.global_pool = nn.AdaptiveAvgPool2d((4, 4))\n",
    "        self.dropout = nn.Dropout(0.3)\n",
    "        self.fc1 = nn.Linear(32 * 4 * 4, 64)\n",
    "        self.fc2 = nn.Linear(64, num_classes)\n",
    "\n",
    "    def forward(self, x):\n",
    "        x = self.pool(F.relu(self.bn1(self.conv1(x))))\n",
    "        x = self.pool(F.relu(self.bn2(self.conv2(x))))\n",
    "        x = self.global_pool(x)\n",
    "        x = x.view(x.size(0), -1)\n",
    "        x = F.relu(self.fc1(x))\n",
    "        x = self.dropout(x)\n",
    "        return self.fc2(x)"
   ]
  },
  {
   "cell_type": "code",
   "execution_count": 25,
   "id": "38943a13",
   "metadata": {},
   "outputs": [],
   "source": [
    "device = torch.device(\"cuda\" if torch.cuda.is_available() else \"cpu\")\n",
    "num_classes = len(np.unique(y))\n",
    "model = BirdMultiClassCNN(num_classes=num_classes).to(device)\n",
    "\n",
    "#Weighted classes\n",
    "class_counts = np.bincount(y)\n",
    "weights = [sum(class_counts) / c for c in class_counts]\n",
    "class_weights = torch.tensor(weights, dtype=torch.float32).to(device)\n",
    "\n",
    "#Cross Entropy and Adam optimizer\n",
    "criterion = nn.CrossEntropyLoss(weight=class_weights)\n",
    "optimizer = torch.optim.Adam(model.parameters(), lr=0.001, weight_decay=1e-5)"
   ]
  },
  {
   "cell_type": "code",
   "execution_count": 26,
   "id": "7257dce4",
   "metadata": {},
   "outputs": [
    {
     "name": "stdout",
     "output_type": "stream",
     "text": [
      "Epoch 01 | Train Loss: 2.4980 | Val Loss: 2.4541 | Train Acc: 0.0909 | Val Acc: 0.1010\n",
      "Epoch 02 | Train Loss: 2.4521 | Val Loss: 2.4594 | Train Acc: 0.1061 | Val Acc: 0.0842\n",
      "→ No improvement. Early stopping trigger 1/5\n",
      "Epoch 03 | Train Loss: 2.4468 | Val Loss: 2.4461 | Train Acc: 0.1190 | Val Acc: 0.1582\n",
      "Epoch 04 | Train Loss: 2.4153 | Val Loss: 2.4826 | Train Acc: 0.1356 | Val Acc: 0.1111\n",
      "→ No improvement. Early stopping trigger 1/5\n",
      "Epoch 05 | Train Loss: 2.4086 | Val Loss: 2.4189 | Train Acc: 0.1364 | Val Acc: 0.1178\n",
      "Epoch 06 | Train Loss: 2.3628 | Val Loss: 2.4132 | Train Acc: 0.1263 | Val Acc: 0.1077\n",
      "Epoch 07 | Train Loss: 2.3437 | Val Loss: 2.3837 | Train Acc: 0.1392 | Val Acc: 0.1145\n",
      "Epoch 08 | Train Loss: 2.3401 | Val Loss: 2.3861 | Train Acc: 0.1421 | Val Acc: 0.1549\n",
      "→ No improvement. Early stopping trigger 1/5\n",
      "Epoch 09 | Train Loss: 2.3195 | Val Loss: 2.3446 | Train Acc: 0.1472 | Val Acc: 0.1380\n",
      "Epoch 10 | Train Loss: 2.2965 | Val Loss: 2.3579 | Train Acc: 0.1494 | Val Acc: 0.1111\n",
      "→ No improvement. Early stopping trigger 1/5\n",
      "Epoch 11 | Train Loss: 2.2543 | Val Loss: 2.3085 | Train Acc: 0.1905 | Val Acc: 0.1919\n",
      "Epoch 12 | Train Loss: 2.2296 | Val Loss: 2.2946 | Train Acc: 0.1746 | Val Acc: 0.1347\n",
      "Epoch 13 | Train Loss: 2.2219 | Val Loss: 2.2593 | Train Acc: 0.1652 | Val Acc: 0.2155\n",
      "Epoch 14 | Train Loss: 2.1972 | Val Loss: 2.2670 | Train Acc: 0.1905 | Val Acc: 0.1515\n",
      "→ No improvement. Early stopping trigger 1/5\n",
      "Epoch 15 | Train Loss: 2.1978 | Val Loss: 2.2522 | Train Acc: 0.1746 | Val Acc: 0.1313\n",
      "Epoch 16 | Train Loss: 2.1998 | Val Loss: 2.2266 | Train Acc: 0.1775 | Val Acc: 0.1582\n",
      "Epoch 17 | Train Loss: 2.1698 | Val Loss: 2.2283 | Train Acc: 0.1955 | Val Acc: 0.1582\n",
      "→ No improvement. Early stopping trigger 1/5\n",
      "Epoch 18 | Train Loss: 2.1600 | Val Loss: 2.2323 | Train Acc: 0.1847 | Val Acc: 0.1616\n",
      "→ No improvement. Early stopping trigger 2/5\n",
      "Epoch 19 | Train Loss: 2.1785 | Val Loss: 2.1951 | Train Acc: 0.1804 | Val Acc: 0.1448\n",
      "Epoch 20 | Train Loss: 2.1868 | Val Loss: 2.2172 | Train Acc: 0.1768 | Val Acc: 0.1414\n",
      "→ No improvement. Early stopping trigger 1/5\n",
      "Epoch 21 | Train Loss: 2.1392 | Val Loss: 2.2285 | Train Acc: 0.1876 | Val Acc: 0.1515\n",
      "→ No improvement. Early stopping trigger 2/5\n",
      "Epoch 22 | Train Loss: 2.1418 | Val Loss: 2.1502 | Train Acc: 0.2179 | Val Acc: 0.1684\n",
      "Epoch 23 | Train Loss: 2.1182 | Val Loss: 2.1615 | Train Acc: 0.1667 | Val Acc: 0.1481\n",
      "→ No improvement. Early stopping trigger 1/5\n",
      "Epoch 24 | Train Loss: 2.0686 | Val Loss: 2.1421 | Train Acc: 0.1869 | Val Acc: 0.1650\n",
      "Epoch 25 | Train Loss: 2.0776 | Val Loss: 2.1708 | Train Acc: 0.1926 | Val Acc: 0.1549\n",
      "→ No improvement. Early stopping trigger 1/5\n",
      "Epoch 26 | Train Loss: 2.0490 | Val Loss: 2.1468 | Train Acc: 0.2078 | Val Acc: 0.1717\n",
      "→ No improvement. Early stopping trigger 2/5\n",
      "Epoch 27 | Train Loss: 2.0395 | Val Loss: 2.2126 | Train Acc: 0.2006 | Val Acc: 0.1785\n",
      "→ No improvement. Early stopping trigger 3/5\n",
      "Epoch 28 | Train Loss: 2.0631 | Val Loss: 2.1600 | Train Acc: 0.2215 | Val Acc: 0.1347\n",
      "→ No improvement. Early stopping trigger 4/5\n",
      "Epoch 29 | Train Loss: 2.0382 | Val Loss: 2.1521 | Train Acc: 0.2273 | Val Acc: 0.1919\n",
      "→ No improvement. Early stopping trigger 5/5\n",
      "→ Early stopping!\n"
     ]
    },
    {
     "name": "stderr",
     "output_type": "stream",
     "text": [
      "C:\\Users\\Ankit P Bisleri\\AppData\\Local\\Programs\\Python\\Python310\\lib\\site-packages\\sklearn\\metrics\\_classification.py:1517: UndefinedMetricWarning: Precision is ill-defined and being set to 0.0 in labels with no predicted samples. Use `zero_division` parameter to control this behavior.\n",
      "  _warn_prf(average, modifier, f\"{metric.capitalize()} is\", len(result))\n",
      "C:\\Users\\Ankit P Bisleri\\AppData\\Local\\Programs\\Python\\Python310\\lib\\site-packages\\sklearn\\metrics\\_classification.py:1517: UndefinedMetricWarning: Precision is ill-defined and being set to 0.0 in labels with no predicted samples. Use `zero_division` parameter to control this behavior.\n",
      "  _warn_prf(average, modifier, f\"{metric.capitalize()} is\", len(result))\n",
      "C:\\Users\\Ankit P Bisleri\\AppData\\Local\\Programs\\Python\\Python310\\lib\\site-packages\\sklearn\\metrics\\_classification.py:1517: UndefinedMetricWarning: Precision is ill-defined and being set to 0.0 in labels with no predicted samples. Use `zero_division` parameter to control this behavior.\n",
      "  _warn_prf(average, modifier, f\"{metric.capitalize()} is\", len(result))\n"
     ]
    },
    {
     "data": {
      "text/plain": [
       "(0.17114093959731544,\n",
       " '              precision    recall  f1-score   support\\n\\n           0       0.31      0.62      0.42         8\\n           1       0.13      0.11      0.12        27\\n           2       0.08      0.09      0.09        22\\n           3       0.00      0.00      0.00         6\\n           4       0.16      0.48      0.24        21\\n           5       0.09      0.33      0.14        12\\n           6       0.65      0.14      0.22        81\\n           7       0.00      0.00      0.00         8\\n           8       0.09      0.16      0.12        19\\n           9       0.50      0.10      0.16        51\\n          10       0.27      0.32      0.29        25\\n          11       0.00      0.00      0.00        18\\n\\n    accuracy                           0.17       298\\n   macro avg       0.19      0.20      0.15       298\\nweighted avg       0.33      0.17      0.17       298\\n',\n",
       " array([[ 5,  0,  0,  0,  1,  0,  1,  0,  1,  0,  0,  0],\n",
       "        [ 0,  3,  2,  3,  4, 11,  1,  0,  3,  0,  0,  0],\n",
       "        [ 0,  1,  2,  2, 10,  1,  0,  1,  2,  2,  1,  0],\n",
       "        [ 0,  1,  0,  0,  1,  1,  0,  1,  0,  0,  2,  0],\n",
       "        [ 0,  0,  3,  2, 10,  2,  0,  0,  1,  0,  3,  0],\n",
       "        [ 2,  3,  1,  0,  0,  4,  1,  0,  1,  0,  0,  0],\n",
       "        [ 4,  6,  3,  6,  9, 16, 11,  8, 12,  0,  6,  0],\n",
       "        [ 1,  2,  1,  0,  2,  0,  0,  0,  2,  0,  0,  0],\n",
       "        [ 0,  2,  1,  2,  2,  4,  3,  2,  3,  0,  0,  0],\n",
       "        [ 2,  4,  6,  5, 15,  0,  0,  1,  6,  5,  7,  0],\n",
       "        [ 0,  1,  3,  2,  4,  3,  0,  1,  2,  1,  8,  0],\n",
       "        [ 2,  0,  2,  2,  4,  2,  0,  1,  0,  2,  3,  0]], dtype=int64))"
      ]
     },
     "execution_count": 26,
     "metadata": {},
     "output_type": "execute_result"
    }
   ],
   "source": [
    "train_loss_hist, val_loss_hist = [], []\n",
    "train_acc_hist, val_acc_hist = [], []\n",
    "best_val_loss = float('inf')\n",
    "patience, trigger_times = 5, 0\n",
    "best_model_state = None\n",
    "\n",
    "for epoch in range(50):\n",
    "    model.train()\n",
    "    running_loss, correct, total = 0.0, 0, 0\n",
    "    for xb, yb in train_loader:\n",
    "        xb, yb = xb.to(device), yb.to(device)\n",
    "        optimizer.zero_grad()\n",
    "        preds = model(xb)\n",
    "        loss = criterion(preds, yb)\n",
    "        loss.backward()\n",
    "        optimizer.step()\n",
    "        running_loss += loss.item()\n",
    "        correct += (preds.argmax(dim=1) == yb).sum().item()\n",
    "        total += yb.size(0)\n",
    "\n",
    "    train_loss_hist.append(running_loss / len(train_loader))\n",
    "    train_acc_hist.append(correct / total)\n",
    "\n",
    "    # Validation\n",
    "    model.eval()\n",
    "    val_loss, val_correct, val_total = 0.0, 0, 0\n",
    "    with torch.no_grad():\n",
    "        for xb, yb in val_loader:\n",
    "            xb, yb = xb.to(device), yb.to(device)\n",
    "            preds = model(xb)\n",
    "            val_loss += criterion(preds, yb).item()\n",
    "            val_correct += (preds.argmax(dim=1) == yb).sum().item()\n",
    "            val_total += yb.size(0)\n",
    "\n",
    "    val_loss_epoch = val_loss / len(val_loader)\n",
    "    val_acc_epoch = val_correct / val_total\n",
    "    val_loss_hist.append(val_loss_epoch)\n",
    "    val_acc_hist.append(val_acc_epoch)\n",
    "\n",
    "    print(f\"Epoch {epoch+1:02d} | Train Loss: {train_loss_hist[-1]:.4f} | Val Loss: {val_loss_epoch:.4f} \"\n",
    "          f\"| Train Acc: {train_acc_hist[-1]:.4f} | Val Acc: {val_acc_epoch:.4f}\")\n",
    "\n",
    "    if val_loss_epoch < best_val_loss:\n",
    "        best_val_loss = val_loss_epoch\n",
    "        best_model_state = model.state_dict()\n",
    "        trigger_times = 0\n",
    "    else:\n",
    "        trigger_times += 1\n",
    "        print(f\"→ No improvement. Early stopping trigger {trigger_times}/{patience}\")\n",
    "        if trigger_times >= patience:\n",
    "            print(\"→ Early stopping!\")\n",
    "            break\n",
    "\n",
    "# Restore best model\n",
    "if best_model_state:\n",
    "    model.load_state_dict(best_model_state)\n",
    "\n",
    "# Evaluate on test set\n",
    "model.eval()\n",
    "all_preds, all_labels = [], []\n",
    "with torch.no_grad():\n",
    "    for xb, yb in test_loader:\n",
    "        xb = xb.to(device)\n",
    "        preds = model(xb).argmax(dim=1).cpu().numpy()\n",
    "        all_preds.extend(preds)\n",
    "        all_labels.extend(yb.numpy())\n",
    "\n",
    "# Report and confusion matrix\n",
    "test_accuracy = accuracy_score(all_labels, all_preds)\n",
    "classification_rep = classification_report(all_labels, all_preds)\n",
    "conf_matrix = confusion_matrix(all_labels, all_preds)\n",
    "\n",
    "(test_accuracy, classification_rep, conf_matrix)"
   ]
  },
  {
   "cell_type": "code",
   "execution_count": 29,
   "id": "29017f2d",
   "metadata": {},
   "outputs": [
    {
     "name": "stdout",
     "output_type": "stream",
     "text": [
      "BirdMultiClassCNN(\n",
      "  (conv1): Conv2d(1, 16, kernel_size=(3, 3), stride=(1, 1), padding=(1, 1))\n",
      "  (bn1): BatchNorm2d(16, eps=1e-05, momentum=0.1, affine=True, track_running_stats=True)\n",
      "  (conv2): Conv2d(16, 32, kernel_size=(3, 3), stride=(1, 1), padding=(1, 1))\n",
      "  (bn2): BatchNorm2d(32, eps=1e-05, momentum=0.1, affine=True, track_running_stats=True)\n",
      "  (pool): MaxPool2d(kernel_size=2, stride=2, padding=0, dilation=1, ceil_mode=False)\n",
      "  (global_pool): AdaptiveAvgPool2d(output_size=(4, 4))\n",
      "  (dropout): Dropout(p=0.3, inplace=False)\n",
      "  (fc1): Linear(in_features=512, out_features=64, bias=True)\n",
      "  (fc2): Linear(in_features=64, out_features=12, bias=True)\n",
      ")\n"
     ]
    }
   ],
   "source": [
    "print(BirdMultiClassCNN(num_classes=12))"
   ]
  },
  {
   "cell_type": "markdown",
   "id": "c0ff59b8",
   "metadata": {},
   "source": [
    "#### The above gives us an accuracy of 17.11% giving us a lot of room to improve"
   ]
  },
  {
   "cell_type": "code",
   "execution_count": 49,
   "id": "61e3a3d4",
   "metadata": {
    "scrolled": false
   },
   "outputs": [],
   "source": [
    "class AdvancedBirdCNN(nn.Module):\n",
    "    def __init__(self, num_classes):\n",
    "        super().__init__()\n",
    "        self.conv_block1 = nn.Sequential(\n",
    "            nn.Conv2d(1, 32, kernel_size=3, padding=1),\n",
    "            nn.BatchNorm2d(32),\n",
    "            nn.ReLU(),\n",
    "            nn.MaxPool2d(2, 2)\n",
    "        )\n",
    "        #Each Conv. block has Conv. layer, Batch normalization, ReLu and Max Pooling\n",
    "        self.conv_block2 = nn.Sequential(\n",
    "            nn.Conv2d(32, 64, kernel_size=3, padding=1),\n",
    "            nn.BatchNorm2d(64),\n",
    "            nn.ReLU(),\n",
    "            nn.MaxPool2d(2, 2)\n",
    "        )\n",
    "        self.conv_block3 = nn.Sequential(\n",
    "            nn.Conv2d(64, 128, kernel_size=3, padding=1),\n",
    "            nn.BatchNorm2d(128),\n",
    "            nn.ReLU(),\n",
    "            nn.MaxPool2d(2, 2)\n",
    "        )\n",
    "        self.global_pool = nn.AdaptiveAvgPool2d((4, 4)) # Reduces spatial dimension\n",
    "        self.dropout = nn.Dropout(0.4)\n",
    "        self.fc1 = nn.Linear(128 * 4 * 4, 128) #Fully connected layer\n",
    "        self.fc2 = nn.Linear(128, num_classes) #Output Layer\n",
    "\n",
    "    def forward(self, x):\n",
    "        x = self.conv_block1(x)\n",
    "        x = self.conv_block2(x)\n",
    "        x = self.conv_block3(x)\n",
    "        x = self.global_pool(x)\n",
    "        x = x.view(x.size(0), -1)\n",
    "        x = self.dropout(F.relu(self.fc1(x)))\n",
    "        return self.fc2(x)\n",
    "\n",
    "#Focal loss\n",
    "class FocalLoss(nn.Module):\n",
    "    def __init__(self, alpha=None, gamma=2.0, reduction='mean'):\n",
    "        super().__init__()\n",
    "        self.alpha = alpha\n",
    "        self.gamma = gamma\n",
    "        self.reduction = reduction\n",
    "\n",
    "    def forward(self, inputs, targets):\n",
    "        ce_loss = F.cross_entropy(inputs, targets, weight=self.alpha, reduction='none')\n",
    "        pt = torch.exp(-ce_loss)\n",
    "        focal_loss = ((1 - pt) ** self.gamma) * ce_loss\n",
    "        return focal_loss.mean() if self.reduction == 'mean' else focal_loss.sum()\n",
    "\n",
    "#augmentation (on-the-fly)\n",
    "class SpectrogramDataset(Dataset):\n",
    "    def __init__(self, X, y, transform=None):\n",
    "        self.X = X\n",
    "        self.y = y\n",
    "        self.transform = transform\n",
    "\n",
    "    def __len__(self):\n",
    "        return len(self.X)\n",
    "\n",
    "    def __getitem__(self, idx):\n",
    "        x = torch.tensor(self.X[idx], dtype=torch.float32).unsqueeze(0)  # (1, 128, 517)\n",
    "        x = (x - x.mean()) / (x.std() + 1e-6)\n",
    "        y = self.y[idx]\n",
    "        if self.transform:\n",
    "            x = self.transform(x)\n",
    "        return x, y\n",
    "\n",
    "#Data augmentation using SpecAugment-inspired masking\n",
    "augment = torch.nn.Sequential(\n",
    "    T.FrequencyMasking(freq_mask_param=15),\n",
    "    T.TimeMasking(time_mask_param=25)\n",
    ")\n",
    "\n",
    "#Balance dataset\n",
    "def get_sampler(y):\n",
    "    class_sample_counts = np.bincount(y)\n",
    "    weights = 1. / class_sample_counts[y]\n",
    "    sampler = WeightedRandomSampler(weights, len(weights), replacement=True)\n",
    "    return sampler"
   ]
  },
  {
   "cell_type": "code",
   "execution_count": 52,
   "id": "edd82abf",
   "metadata": {},
   "outputs": [],
   "source": [
    "# Initialize model and training settings\n",
    "model = AdvancedBirdCNN(num_classes=num_classes).to(device)\n",
    "class_counts = np.bincount(y)\n",
    "alpha = torch.tensor([1.0 / c for c in class_counts], dtype=torch.float32)\n",
    "alpha = (alpha / alpha.sum()).to(device)\n",
    "criterion = FocalLoss(alpha=alpha, gamma=2.0)\n",
    "optimizer = torch.optim.Adam(model.parameters(), lr=0.001, weight_decay=1e-5)"
   ]
  },
  {
   "cell_type": "code",
   "execution_count": 35,
   "id": "9867b71c",
   "metadata": {},
   "outputs": [
    {
     "name": "stdout",
     "output_type": "stream",
     "text": [
      "Epoch 01 | Train Loss: 0.0060 | Val Loss: 0.0039 | Train Acc: 0.0332 | Val Acc: 0.0303\n",
      "Epoch 02 | Train Loss: 0.0038 | Val Loss: 0.0038 | Train Acc: 0.0260 | Val Acc: 0.0303\n",
      "Epoch 03 | Train Loss: 0.0036 | Val Loss: 0.0039 | Train Acc: 0.0260 | Val Acc: 0.0236\n",
      "→ No improvement. Early stopping trigger 1/5\n",
      "Epoch 04 | Train Loss: 0.0036 | Val Loss: 0.0040 | Train Acc: 0.0332 | Val Acc: 0.0168\n",
      "→ No improvement. Early stopping trigger 2/5\n",
      "Epoch 05 | Train Loss: 0.0033 | Val Loss: 0.0038 | Train Acc: 0.0361 | Val Acc: 0.0337\n",
      "→ No improvement. Early stopping trigger 3/5\n",
      "Epoch 06 | Train Loss: 0.0033 | Val Loss: 0.0041 | Train Acc: 0.0361 | Val Acc: 0.0303\n",
      "→ No improvement. Early stopping trigger 4/5\n",
      "Epoch 07 | Train Loss: 0.0031 | Val Loss: 0.0049 | Train Acc: 0.0440 | Val Acc: 0.0606\n",
      "→ No improvement. Early stopping trigger 5/5\n",
      "→ Early stopping!\n"
     ]
    },
    {
     "name": "stderr",
     "output_type": "stream",
     "text": [
      "C:\\Users\\Ankit P Bisleri\\AppData\\Local\\Programs\\Python\\Python310\\lib\\site-packages\\sklearn\\metrics\\_classification.py:1517: UndefinedMetricWarning: Precision is ill-defined and being set to 0.0 in labels with no predicted samples. Use `zero_division` parameter to control this behavior.\n",
      "  _warn_prf(average, modifier, f\"{metric.capitalize()} is\", len(result))\n",
      "C:\\Users\\Ankit P Bisleri\\AppData\\Local\\Programs\\Python\\Python310\\lib\\site-packages\\sklearn\\metrics\\_classification.py:1517: UndefinedMetricWarning: Precision is ill-defined and being set to 0.0 in labels with no predicted samples. Use `zero_division` parameter to control this behavior.\n",
      "  _warn_prf(average, modifier, f\"{metric.capitalize()} is\", len(result))\n",
      "C:\\Users\\Ankit P Bisleri\\AppData\\Local\\Programs\\Python\\Python310\\lib\\site-packages\\sklearn\\metrics\\_classification.py:1517: UndefinedMetricWarning: Precision is ill-defined and being set to 0.0 in labels with no predicted samples. Use `zero_division` parameter to control this behavior.\n",
      "  _warn_prf(average, modifier, f\"{metric.capitalize()} is\", len(result))\n"
     ]
    },
    {
     "data": {
      "text/plain": [
       "(0.09060402684563758,\n",
       " '              precision    recall  f1-score   support\\n\\n           0       0.05      0.62      0.10         8\\n           1       0.00      0.00      0.00        27\\n           2       0.12      0.14      0.12        22\\n           3       0.02      0.33      0.04         6\\n           4       0.00      0.00      0.00        21\\n           5       0.25      0.25      0.25        12\\n           6       0.00      0.00      0.00        81\\n           7       0.00      0.00      0.00         8\\n           8       0.00      0.00      0.00        19\\n           9       0.00      0.00      0.00        51\\n          10       0.22      0.56      0.31        25\\n          11       0.00      0.00      0.00        18\\n\\n    accuracy                           0.09       298\\n   macro avg       0.05      0.16      0.07       298\\nweighted avg       0.04      0.09      0.05       298\\n',\n",
       " array([[ 5,  0,  0,  3,  0,  0,  0,  0,  0,  0,  0,  0],\n",
       "        [ 5,  0,  3, 10,  0,  4,  0,  3,  0,  0,  2,  0],\n",
       "        [ 5,  0,  3, 10,  0,  0,  0,  0,  0,  0,  4,  0],\n",
       "        [ 2,  0,  0,  2,  0,  0,  0,  0,  0,  0,  2,  0],\n",
       "        [ 4,  0,  3,  9,  0,  0,  0,  0,  0,  0,  5,  0],\n",
       "        [ 3,  0,  1,  4,  0,  3,  0,  0,  0,  0,  1,  0],\n",
       "        [37,  0,  4, 21,  0,  2,  0,  5,  0,  0, 12,  0],\n",
       "        [ 5,  0,  0,  1,  0,  1,  0,  0,  0,  0,  1,  0],\n",
       "        [ 7,  0,  1,  6,  0,  1,  0,  1,  0,  0,  3,  0],\n",
       "        [14,  0,  7, 15,  0,  0,  0,  0,  0,  0, 15,  0],\n",
       "        [ 2,  0,  2,  6,  0,  1,  0,  0,  0,  0, 14,  0],\n",
       "        [ 4,  0,  2,  7,  0,  0,  0,  0,  0,  0,  5,  0]], dtype=int64))"
      ]
     },
     "execution_count": 35,
     "metadata": {},
     "output_type": "execute_result"
    }
   ],
   "source": [
    "train_loss_hist, val_loss_hist = [], []\n",
    "train_acc_hist, val_acc_hist = [], []\n",
    "best_val_loss = float('inf')\n",
    "patience, trigger_times = 5, 0\n",
    "best_model_state = None\n",
    "\n",
    "for epoch in range(50):\n",
    "    model.train()\n",
    "    running_loss, correct, total = 0.0, 0, 0\n",
    "    for xb, yb in train_loader:\n",
    "        xb, yb = xb.to(device), yb.to(device)\n",
    "        optimizer.zero_grad()\n",
    "        preds = model(xb)\n",
    "        loss = criterion(preds, yb)\n",
    "        loss.backward()\n",
    "        optimizer.step()\n",
    "        running_loss += loss.item()\n",
    "        correct += (preds.argmax(dim=1) == yb).sum().item()\n",
    "        total += yb.size(0)\n",
    "\n",
    "    train_loss_hist.append(running_loss / len(train_loader))\n",
    "    train_acc_hist.append(correct / total)\n",
    "\n",
    "    \n",
    "    model.eval()\n",
    "    val_loss, val_correct, val_total = 0.0, 0, 0\n",
    "    with torch.no_grad():\n",
    "        for xb, yb in val_loader:\n",
    "            xb, yb = xb.to(device), yb.to(device)\n",
    "            preds = model(xb)\n",
    "            val_loss += criterion(preds, yb).item()\n",
    "            val_correct += (preds.argmax(dim=1) == yb).sum().item()\n",
    "            val_total += yb.size(0)\n",
    "\n",
    "    val_loss_epoch = val_loss / len(val_loader)\n",
    "    val_acc_epoch = val_correct / val_total\n",
    "    val_loss_hist.append(val_loss_epoch)\n",
    "    val_acc_hist.append(val_acc_epoch)\n",
    "\n",
    "    print(f\"Epoch {epoch+1:02d} | Train Loss: {train_loss_hist[-1]:.4f} | Val Loss: {val_loss_epoch:.4f} \"\n",
    "          f\"| Train Acc: {train_acc_hist[-1]:.4f} | Val Acc: {val_acc_epoch:.4f}\")\n",
    "\n",
    "    if val_loss_epoch < best_val_loss:\n",
    "        best_val_loss = val_loss_epoch\n",
    "        best_model_state = model.state_dict()\n",
    "        trigger_times = 0\n",
    "    else:\n",
    "        trigger_times += 1\n",
    "        print(f\"→ No improvement. Early stopping trigger {trigger_times}/{patience}\")\n",
    "        if trigger_times >= patience:\n",
    "            print(\"→ Early stopping!\")\n",
    "            break\n",
    "\n",
    "if best_model_state:\n",
    "    model.load_state_dict(best_model_state)\n",
    "\n",
    "model.eval()\n",
    "all_preds, all_labels = [], []\n",
    "with torch.no_grad():\n",
    "    for xb, yb in test_loader:\n",
    "        xb = xb.to(device)\n",
    "        preds = model(xb).argmax(dim=1).cpu().numpy()\n",
    "        all_preds.extend(preds)\n",
    "        all_labels.extend(yb.numpy())\n",
    "\n",
    "\n",
    "test_accuracy = accuracy_score(all_labels, all_preds)\n",
    "classification_rep = classification_report(all_labels, all_preds)\n",
    "conf_matrix = confusion_matrix(all_labels, all_preds)\n",
    "\n",
    "(test_accuracy, classification_rep, conf_matrix)"
   ]
  },
  {
   "cell_type": "markdown",
   "id": "e9001f8e",
   "metadata": {},
   "source": [
    "#### Augmenting the data, changing the Arch and adding Focal Loss(addresses weight imbalnce) resulted in lower accuracy(Model is unstable)\n",
    "#### Lets try downsample and see if there is actually class imbalnce "
   ]
  },
  {
   "cell_type": "code",
   "execution_count": 36,
   "id": "efa44bb4",
   "metadata": {},
   "outputs": [],
   "source": [
    "# Downsampling function to balance all classes equally\n",
    "def downsample_classes(X, y):\n",
    "    class_indices = defaultdict(list)\n",
    "    for i, label in enumerate(y):\n",
    "        class_indices[label].append(i)\n",
    "\n",
    "    min_class_count = min(len(indices) for indices in class_indices.values())\n",
    "\n",
    "    balanced_indices = []\n",
    "    for label, indices in class_indices.items():\n",
    "        balanced_indices.extend(np.random.choice(indices, min_class_count, replace=False))\n",
    "\n",
    "    np.random.shuffle(balanced_indices)\n",
    "    return X[balanced_indices], y[balanced_indices]"
   ]
  },
  {
   "cell_type": "code",
   "execution_count": 39,
   "id": "a6396d32",
   "metadata": {},
   "outputs": [],
   "source": [
    "X_bal, y_bal = downsample_classes(X, y)\n",
    "dataset = SpectrogramDataset(X_bal, y_bal, transform=augment)\n",
    "train_loader = DataLoader(dataset, batch_size=32, shuffle=True)"
   ]
  },
  {
   "cell_type": "code",
   "execution_count": 40,
   "id": "51e61aa9",
   "metadata": {},
   "outputs": [],
   "source": [
    "# Initialize model and training settings\n",
    "device = torch.device(\"cuda\" if torch.cuda.is_available() else \"cpu\")\n",
    "num_classes = len(np.unique(y_bal))\n",
    "model = AdvancedBirdCNN(num_classes=num_classes).to(device)\n",
    "criterion = FocalLoss(alpha=None, gamma=2.0)\n",
    "optimizer = torch.optim.Adam(model.parameters(), lr=0.001, weight_decay=1e-5)"
   ]
  },
  {
   "cell_type": "code",
   "execution_count": 44,
   "id": "f6efb544",
   "metadata": {},
   "outputs": [
    {
     "name": "stdout",
     "output_type": "stream",
     "text": [
      "Epoch 01 | Train Loss: 2.2457 | Val Loss: 2.1898 | Train Acc: 0.0721 | Val Acc: 0.0673\n",
      "Epoch 02 | Train Loss: 2.1021 | Val Loss: 2.0900 | Train Acc: 0.1194 | Val Acc: 0.0909\n",
      "Epoch 03 | Train Loss: 2.0678 | Val Loss: 2.0414 | Train Acc: 0.1149 | Val Acc: 0.1582\n",
      "Epoch 04 | Train Loss: 2.0398 | Val Loss: 2.0375 | Train Acc: 0.1239 | Val Acc: 0.1010\n",
      "Epoch 05 | Train Loss: 2.0639 | Val Loss: 2.0652 | Train Acc: 0.1081 | Val Acc: 0.1145\n",
      "→ No improvement. Early stopping trigger 1/5\n",
      "Epoch 06 | Train Loss: 2.0524 | Val Loss: 2.0752 | Train Acc: 0.1284 | Val Acc: 0.1044\n",
      "→ No improvement. Early stopping trigger 2/5\n",
      "Epoch 07 | Train Loss: 2.0187 | Val Loss: 2.0183 | Train Acc: 0.1351 | Val Acc: 0.1246\n",
      "Epoch 08 | Train Loss: 2.0182 | Val Loss: 2.0471 | Train Acc: 0.1509 | Val Acc: 0.0842\n",
      "→ No improvement. Early stopping trigger 1/5\n",
      "Epoch 09 | Train Loss: 1.9857 | Val Loss: 1.9758 | Train Acc: 0.1599 | Val Acc: 0.1077\n",
      "Epoch 10 | Train Loss: 1.9836 | Val Loss: 1.9938 | Train Acc: 0.1216 | Val Acc: 0.1044\n",
      "→ No improvement. Early stopping trigger 1/5\n",
      "Epoch 11 | Train Loss: 1.9835 | Val Loss: 1.9437 | Train Acc: 0.1644 | Val Acc: 0.1481\n",
      "Epoch 12 | Train Loss: 1.9519 | Val Loss: 2.0305 | Train Acc: 0.1464 | Val Acc: 0.0842\n",
      "→ No improvement. Early stopping trigger 1/5\n",
      "Epoch 13 | Train Loss: 1.9464 | Val Loss: 1.9882 | Train Acc: 0.1622 | Val Acc: 0.1178\n",
      "→ No improvement. Early stopping trigger 2/5\n",
      "Epoch 14 | Train Loss: 1.9328 | Val Loss: 1.9027 | Train Acc: 0.1734 | Val Acc: 0.1481\n",
      "Epoch 15 | Train Loss: 1.8905 | Val Loss: 1.9122 | Train Acc: 0.1734 | Val Acc: 0.1347\n",
      "→ No improvement. Early stopping trigger 1/5\n",
      "Epoch 16 | Train Loss: 1.8577 | Val Loss: 1.9248 | Train Acc: 0.1982 | Val Acc: 0.1380\n",
      "→ No improvement. Early stopping trigger 2/5\n",
      "Epoch 17 | Train Loss: 1.9092 | Val Loss: 2.0001 | Train Acc: 0.1757 | Val Acc: 0.1212\n",
      "→ No improvement. Early stopping trigger 3/5\n",
      "Epoch 18 | Train Loss: 1.9088 | Val Loss: 1.8582 | Train Acc: 0.1577 | Val Acc: 0.1785\n",
      "Epoch 19 | Train Loss: 1.8511 | Val Loss: 1.8495 | Train Acc: 0.1982 | Val Acc: 0.1818\n",
      "Epoch 20 | Train Loss: 1.8490 | Val Loss: 1.8074 | Train Acc: 0.2050 | Val Acc: 0.2559\n",
      "Epoch 21 | Train Loss: 1.8069 | Val Loss: 1.9225 | Train Acc: 0.2162 | Val Acc: 0.1347\n",
      "→ No improvement. Early stopping trigger 1/5\n",
      "Epoch 22 | Train Loss: 1.7790 | Val Loss: 1.8991 | Train Acc: 0.2410 | Val Acc: 0.1448\n",
      "→ No improvement. Early stopping trigger 2/5\n",
      "Epoch 23 | Train Loss: 1.7867 | Val Loss: 1.8632 | Train Acc: 0.2252 | Val Acc: 0.1852\n",
      "→ No improvement. Early stopping trigger 3/5\n",
      "Epoch 24 | Train Loss: 1.7748 | Val Loss: 1.9593 | Train Acc: 0.2365 | Val Acc: 0.1380\n",
      "→ No improvement. Early stopping trigger 4/5\n",
      "Epoch 25 | Train Loss: 1.7656 | Val Loss: 1.8062 | Train Acc: 0.2050 | Val Acc: 0.1785\n",
      "Epoch 26 | Train Loss: 1.7519 | Val Loss: 1.8464 | Train Acc: 0.2140 | Val Acc: 0.1919\n",
      "→ No improvement. Early stopping trigger 1/5\n",
      "Epoch 27 | Train Loss: 1.7043 | Val Loss: 1.8572 | Train Acc: 0.2432 | Val Acc: 0.1616\n",
      "→ No improvement. Early stopping trigger 2/5\n",
      "Epoch 28 | Train Loss: 1.7023 | Val Loss: 1.8106 | Train Acc: 0.2545 | Val Acc: 0.1481\n",
      "→ No improvement. Early stopping trigger 3/5\n",
      "Epoch 29 | Train Loss: 1.6992 | Val Loss: 1.8476 | Train Acc: 0.2140 | Val Acc: 0.1616\n",
      "→ No improvement. Early stopping trigger 4/5\n",
      "Epoch 30 | Train Loss: 1.6344 | Val Loss: 1.9096 | Train Acc: 0.2252 | Val Acc: 0.1448\n",
      "→ No improvement. Early stopping trigger 5/5\n",
      "→ Early stopping!\n"
     ]
    }
   ],
   "source": [
    "#Training loop\n",
    "train_loss_hist, val_loss_hist = [], []\n",
    "train_acc_hist, val_acc_hist = [], []\n",
    "best_val_loss = float('inf')\n",
    "patience = 5\n",
    "trigger_times = 0\n",
    "best_model_state = None\n",
    "\n",
    "for epoch in range(50):\n",
    "    model.train()\n",
    "    running_loss, correct, total = 0.0, 0, 0\n",
    "\n",
    "    for xb, yb in train_loader:\n",
    "        xb, yb = xb.to(device), yb.to(device).long()\n",
    "        optimizer.zero_grad()\n",
    "        outputs = model(xb)\n",
    "        loss = criterion(outputs, yb)\n",
    "        loss.backward()\n",
    "        optimizer.step()\n",
    "\n",
    "        running_loss += loss.item()\n",
    "        correct += (outputs.argmax(dim=1) == yb).sum().item()\n",
    "        total += yb.size(0)\n",
    "\n",
    "    train_loss_hist.append(running_loss / len(train_loader))\n",
    "    train_acc_hist.append(correct / total)\n",
    "\n",
    "   \n",
    "    model.eval()\n",
    "    val_loss, val_correct, val_total = 0.0, 0, 0\n",
    "    with torch.no_grad():\n",
    "        for xb, yb in val_loader:\n",
    "            xb, yb = xb.to(device), yb.to(device)\n",
    "            outputs = model(xb)\n",
    "            val_loss += criterion(outputs, yb).item()\n",
    "            val_correct += (outputs.argmax(dim=1) == yb).sum().item()\n",
    "            val_total += yb.size(0)\n",
    "\n",
    "    val_loss_epoch = val_loss / len(val_loader)\n",
    "    val_acc_epoch = val_correct / val_total\n",
    "    val_loss_hist.append(val_loss_epoch)\n",
    "    val_acc_hist.append(val_acc_epoch)\n",
    "\n",
    "    print(f\"Epoch {epoch+1:02d} | Train Loss: {train_loss_hist[-1]:.4f} | \"\n",
    "          f\"Val Loss: {val_loss_epoch:.4f} | Train Acc: {train_acc_hist[-1]:.4f} | \"\n",
    "          f\"Val Acc: {val_acc_epoch:.4f}\")\n",
    "\n",
    "    # Early stopping\n",
    "    if val_loss_epoch < best_val_loss:\n",
    "        best_val_loss = val_loss_epoch\n",
    "        best_model_state = model.state_dict()\n",
    "        trigger_times = 0\n",
    "    else:\n",
    "        trigger_times += 1\n",
    "        print(f\"→ No improvement. Early stopping trigger {trigger_times}/{patience}\")\n",
    "        if trigger_times >= patience:\n",
    "            print(\"→ Early stopping!\")\n",
    "            break\n",
    "\n",
    "if best_model_state:\n",
    "    model.load_state_dict(best_model_state)"
   ]
  },
  {
   "cell_type": "code",
   "execution_count": 45,
   "id": "01d1f6c1",
   "metadata": {},
   "outputs": [
    {
     "data": {
      "image/png": "[encoded data removed]",
      "text/plain": [
       "<Figure size 432x360 with 1 Axes>"
      ]
     },
     "metadata": {
      "needs_background": "light"
     },
     "output_type": "display_data"
    },
    {
     "data": {
      "image/png": "[encoded data removed]",
      "text/plain": [
       "<Figure size 432x360 with 1 Axes>"
      ]
     },
     "metadata": {
      "needs_background": "light"
     },
     "output_type": "display_data"
    }
   ],
   "source": [
    "#Loss over epochs\n",
    "plt.figure(figsize=(6, 5))\n",
    "plt.plot(train_loss_hist, label='Train Loss')\n",
    "plt.plot(val_loss_hist, label='Val Loss')\n",
    "plt.xlabel('Epoch'); plt.ylabel('Loss')\n",
    "plt.title('Loss over Epochs')\n",
    "plt.legend(); plt.grid(True)\n",
    "plt.show()\n",
    "\n",
    "#Accuracy over epochs\n",
    "plt.figure(figsize=(6, 5))\n",
    "plt.plot(train_acc_hist, label='Train Acc')\n",
    "plt.plot(val_acc_hist, label='Val Acc')\n",
    "plt.xlabel('Epoch'); plt.ylabel('Accuracy')\n",
    "plt.title('Accuracy over Epochs')\n",
    "plt.legend(); plt.grid(True)\n",
    "plt.show()"
   ]
  },
  {
   "cell_type": "markdown",
   "id": "267da0cc",
   "metadata": {},
   "source": [
    "Doing Downsampling increased it by 1% "
   ]
  }
 ],
 "metadata": {
  "kernelspec": {
   "display_name": "Python 3 (ipykernel)",
   "language": "python",
   "name": "python3"
  },
  "language_info": {
   "codemirror_mode": {
    "name": "ipython",
    "version": 3
   },
   "file_extension": ".py",
   "mimetype": "text/x-python",
   "name": "python",
   "nbconvert_exporter": "python",
   "pygments_lexer": "ipython3",
   "version": "3.10.5"
  }
 },
 "nbformat": 4,
 "nbformat_minor": 5
}
