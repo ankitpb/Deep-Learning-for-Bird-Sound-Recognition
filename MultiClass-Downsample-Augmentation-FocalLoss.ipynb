{
 "cells": [
  {
   "cell_type": "code",
   "execution_count": 40,
   "id": "b28c451a",
   "metadata": {},
   "outputs": [],
   "source": [
    "import h5py\n",
    "from collections import defaultdict\n",
    "import numpy as np\n",
    "import torch\n",
    "from torch.utils.data import TensorDataset, DataLoader, random_split\n",
    "from sklearn.model_selection import train_test_split\n",
    "import torch.nn as nn\n",
    "import torch.nn.functional as F\n",
    "import torchaudio.transforms as T\n",
    "import matplotlib.pyplot as plt\n",
    "import librosa\n",
    "import os\n",
    "from sklearn.metrics import confusion_matrix, ConfusionMatrixDisplay\n",
    "from sklearn.metrics import accuracy_score, classification_report, confusion_matrix, ConfusionMatrixDisplay"
   ]
  },
  {
   "cell_type": "code",
   "execution_count": 8,
   "id": "df1f89f1",
   "metadata": {},
   "outputs": [
    {
     "name": "stdout",
     "output_type": "stream",
     "text": [
      "Available keys (species):\n",
      "['amecro', 'amerob', 'bewwre', 'bkcchi', 'daejun', 'houfin', 'houspa', 'norfli', 'rewbla', 'sonspa', 'spotow', 'whcspa']\n"
     ]
    }
   ],
   "source": [
    "file_path = 'bird_spectrograms.hdf5'  \n",
    "f = h5py.File(file_path, 'r')\n",
    "\n",
    "print(\"Available keys (species):\")\n",
    "print(list(f.keys()))"
   ]
  },
  {
   "cell_type": "code",
   "execution_count": 9,
   "id": "f41d154e",
   "metadata": {},
   "outputs": [],
   "source": [
    "with h5py.File(file_path, 'r') as f:\n",
    "    keys = list(f.keys())\n",
    "    X_list, y_list = [], []\n",
    "    for idx, species in enumerate(keys):\n",
    "        data = np.transpose(f[species][:], (2, 0, 1))  # (samples, 128, 517)\n",
    "        labels = np.full(len(data), idx)\n",
    "        X_list.append(data)\n",
    "        y_list.append(labels)\n",
    "\n",
    "X = np.concatenate(X_list)\n",
    "y = np.concatenate(y_list)"
   ]
  },
  {
   "cell_type": "code",
   "execution_count": 10,
   "id": "822f492d",
   "metadata": {},
   "outputs": [],
   "source": [
    "perm = np.random.permutation(len(X))\n",
    "X = X[perm]\n",
    "y = y[perm]\n",
    "X_tensor = torch.tensor(X[:, np.newaxis, :, :], dtype=torch.float32)\n",
    "y_tensor = torch.tensor(y, dtype=torch.long)\n",
    "\n",
    "dataset = TensorDataset(X_tensor, y_tensor)\n",
    "train_size = int(0.7 * len(dataset))\n",
    "val_size = int(0.15 * len(dataset))\n",
    "test_size = len(dataset) - train_size - val_size\n",
    "train_ds, val_ds, test_ds = random_split(dataset, [train_size, val_size, test_size])\n",
    "train_loader = DataLoader(train_ds, batch_size=32, shuffle=True)\n",
    "val_loader = DataLoader(val_ds, batch_size=32)\n",
    "test_loader = DataLoader(test_ds, batch_size=32)"
   ]
  },
  {
   "cell_type": "code",
   "execution_count": 19,
   "id": "8502365f",
   "metadata": {},
   "outputs": [],
   "source": [
    "X_train, X_test, y_train, y_test = train_test_split(X, y, test_size=0.25, stratify=y, random_state=42)"
   ]
  },
  {
   "cell_type": "code",
   "execution_count": 20,
   "id": "589ba10a",
   "metadata": {},
   "outputs": [],
   "source": [
    "def downsample_classes(X, y):\n",
    "    class_indices = defaultdict(list)\n",
    "    for i, label in enumerate(y):\n",
    "        class_indices[label].append(i)\n",
    "\n",
    "    min_class_count = min(len(indices) for indices in class_indices.values())\n",
    "    balanced_indices = []\n",
    "    for label, indices in class_indices.items():\n",
    "        balanced_indices.extend(np.random.choice(indices, min_class_count, replace=False))\n",
    "\n",
    "    np.random.shuffle(balanced_indices)\n",
    "    return X[balanced_indices], y[balanced_indices]"
   ]
  },
  {
   "cell_type": "code",
   "execution_count": 21,
   "id": "ae36e5cd",
   "metadata": {},
   "outputs": [],
   "source": [
    "class SpectrogramDataset(Dataset):\n",
    "    def __init__(self, X, y, transform=None):\n",
    "        self.X = X\n",
    "        self.y = y\n",
    "        self.transform = transform\n",
    "\n",
    "    def __len__(self):\n",
    "        return len(self.X)\n",
    "\n",
    "    def __getitem__(self, idx):\n",
    "        x = torch.tensor(self.X[idx], dtype=torch.float32)\n",
    "        x = (x - x.mean()) / (x.std() + 1e-6)\n",
    "        x = x.unsqueeze(0)\n",
    "        y = self.y[idx]\n",
    "        if self.transform:\n",
    "            x = self.transform(x)\n",
    "        return x, y\n",
    "\n",
    "class FocalLoss(torch.nn.Module):\n",
    "    def __init__(self, alpha=None, gamma=2.0, reduction='mean'):\n",
    "        super().__init__()\n",
    "        self.alpha = alpha\n",
    "        self.gamma = gamma\n",
    "        self.reduction = reduction\n",
    "\n",
    "    def forward(self, inputs, targets):\n",
    "        ce_loss = torch.nn.functional.cross_entropy(inputs, targets, weight=self.alpha, reduction='none')\n",
    "        pt = torch.exp(-ce_loss)\n",
    "        focal_loss = ((1 - pt) ** self.gamma) * ce_loss\n",
    "        return focal_loss.mean() if self.reduction == 'mean' else focal_loss.sum()"
   ]
  },
  {
   "cell_type": "code",
   "execution_count": 22,
   "id": "3503a1ed",
   "metadata": {},
   "outputs": [],
   "source": [
    "class AdvancedBirdCNN(torch.nn.Module):\n",
    "    def __init__(self, num_classes):\n",
    "        super().__init__()\n",
    "        self.conv_block1 = torch.nn.Sequential(\n",
    "            torch.nn.Conv2d(1, 32, kernel_size=3, padding=1),\n",
    "            torch.nn.BatchNorm2d(32),\n",
    "            torch.nn.ReLU(),\n",
    "            torch.nn.MaxPool2d(2, 2)\n",
    "        )\n",
    "        self.conv_block2 = torch.nn.Sequential(\n",
    "            torch.nn.Conv2d(32, 64, kernel_size=3, padding=1),\n",
    "            torch.nn.BatchNorm2d(64),\n",
    "            torch.nn.ReLU(),\n",
    "            torch.nn.MaxPool2d(2, 2)\n",
    "        )\n",
    "        self.conv_block3 = torch.nn.Sequential(\n",
    "            torch.nn.Conv2d(64, 128, kernel_size=3, padding=1),\n",
    "            torch.nn.BatchNorm2d(128),\n",
    "            torch.nn.ReLU(),\n",
    "            torch.nn.MaxPool2d(2, 2)\n",
    "        )\n",
    "        self.global_pool = torch.nn.AdaptiveAvgPool2d((4, 4))\n",
    "        self.dropout = torch.nn.Dropout(0.4)\n",
    "        self.fc1 = torch.nn.Linear(128 * 4 * 4, 128)\n",
    "        self.fc2 = torch.nn.Linear(128, num_classes)\n",
    "\n",
    "    def forward(self, x):\n",
    "        x = self.conv_block1(x)\n",
    "        x = self.conv_block2(x)\n",
    "        x = self.conv_block3(x)\n",
    "        x = self.global_pool(x)\n",
    "        x = x.view(x.size(0), -1)\n",
    "        x = self.dropout(torch.nn.functional.relu(self.fc1(x)))\n",
    "        return self.fc2(x)\n",
    "\n",
    "X_bal, y_bal = downsample_classes(X, y)\n",
    "X_test_bal, y_test_bal = downsample_classes(X_test, y_test)\n",
    "\n",
    "augment = torch.nn.Sequential(\n",
    "    T.FrequencyMasking(freq_mask_param=15),\n",
    "    T.TimeMasking(time_mask_param=25)\n",
    ")"
   ]
  },
  {
   "cell_type": "code",
   "execution_count": 24,
   "id": "8eba73ef",
   "metadata": {},
   "outputs": [],
   "source": [
    "train_dataset = SpectrogramDataset(X_bal, y_bal, transform=augment)\n",
    "test_dataset = SpectrogramDataset(X_test_bal, y_test_bal)\n",
    "train_loader = DataLoader(train_dataset, batch_size=32, shuffle=True)\n",
    "test_loader = DataLoader(test_dataset, batch_size=32)\n",
    "\n",
    "device = torch.device(\"cuda\" if torch.cuda.is_available() else \"cpu\")\n",
    "num_classes = len(np.unique(y_bal))\n",
    "model = AdvancedBirdCNN(num_classes=num_classes).to(device)\n",
    "criterion = FocalLoss(alpha=None, gamma=2.0)\n",
    "optimizer = torch.optim.Adam(model.parameters(), lr=0.001, weight_decay=1e-5)"
   ]
  },
  {
   "cell_type": "code",
   "execution_count": 25,
   "id": "f28d670f",
   "metadata": {},
   "outputs": [
    {
     "name": "stdout",
     "output_type": "stream",
     "text": [
      "Epoch 01 | Train Loss: 2.2879 | Val Loss: 2.0552 | Train Acc: 0.0878 | Val Acc: 0.1019\n",
      "Epoch 02 | Train Loss: 2.0871 | Val Loss: 2.0326 | Train Acc: 0.1014 | Val Acc: 0.1296\n",
      "Epoch 03 | Train Loss: 2.0193 | Val Loss: 1.9933 | Train Acc: 0.1374 | Val Acc: 0.1574\n",
      "Epoch 04 | Train Loss: 2.0104 | Val Loss: 1.9700 | Train Acc: 0.1171 | Val Acc: 0.1667\n",
      "Epoch 05 | Train Loss: 1.9400 | Val Loss: 1.9184 | Train Acc: 0.1689 | Val Acc: 0.1481\n",
      "Epoch 06 | Train Loss: 1.9212 | Val Loss: 1.9044 | Train Acc: 0.1847 | Val Acc: 0.1852\n",
      "Epoch 07 | Train Loss: 1.8467 | Val Loss: 1.8643 | Train Acc: 0.2117 | Val Acc: 0.2037\n",
      "Epoch 08 | Train Loss: 1.7759 | Val Loss: 1.8008 | Train Acc: 0.2477 | Val Acc: 0.2222\n",
      "Epoch 09 | Train Loss: 1.7973 | Val Loss: 1.7806 | Train Acc: 0.1914 | Val Acc: 0.2870\n",
      "Epoch 10 | Train Loss: 1.7042 | Val Loss: 1.7462 | Train Acc: 0.2320 | Val Acc: 0.2685\n",
      "Epoch 11 | Train Loss: 1.7233 | Val Loss: 1.7087 | Train Acc: 0.2387 | Val Acc: 0.2963\n",
      "Epoch 12 | Train Loss: 1.6666 | Val Loss: 1.7390 | Train Acc: 0.2658 | Val Acc: 0.2222\n",
      "→ No improvement. Early stopping trigger 1/5\n",
      "Epoch 13 | Train Loss: 1.6843 | Val Loss: 1.6683 | Train Acc: 0.2365 | Val Acc: 0.2963\n",
      "Epoch 14 | Train Loss: 1.6652 | Val Loss: 1.6768 | Train Acc: 0.2027 | Val Acc: 0.3056\n",
      "→ No improvement. Early stopping trigger 1/5\n",
      "Epoch 15 | Train Loss: 1.6499 | Val Loss: 1.6598 | Train Acc: 0.2703 | Val Acc: 0.3333\n",
      "Epoch 16 | Train Loss: 1.5805 | Val Loss: 1.6955 | Train Acc: 0.2793 | Val Acc: 0.3519\n",
      "→ No improvement. Early stopping trigger 1/5\n",
      "Epoch 17 | Train Loss: 1.5455 | Val Loss: 1.6316 | Train Acc: 0.2838 | Val Acc: 0.3426\n",
      "Epoch 18 | Train Loss: 1.5068 | Val Loss: 1.6451 | Train Acc: 0.3041 | Val Acc: 0.2963\n",
      "→ No improvement. Early stopping trigger 1/5\n",
      "Epoch 19 | Train Loss: 1.5792 | Val Loss: 1.6212 | Train Acc: 0.2680 | Val Acc: 0.3056\n",
      "Epoch 20 | Train Loss: 1.5474 | Val Loss: 1.6477 | Train Acc: 0.2793 | Val Acc: 0.3426\n",
      "→ No improvement. Early stopping trigger 1/5\n",
      "Epoch 21 | Train Loss: 1.5081 | Val Loss: 1.5809 | Train Acc: 0.2770 | Val Acc: 0.3241\n",
      "Epoch 22 | Train Loss: 1.4726 | Val Loss: 1.6292 | Train Acc: 0.2815 | Val Acc: 0.3148\n",
      "→ No improvement. Early stopping trigger 1/5\n",
      "Epoch 23 | Train Loss: 1.4227 | Val Loss: 1.5220 | Train Acc: 0.3243 | Val Acc: 0.3519\n",
      "Epoch 24 | Train Loss: 1.4060 | Val Loss: 1.5628 | Train Acc: 0.3333 | Val Acc: 0.3333\n",
      "→ No improvement. Early stopping trigger 1/5\n",
      "Epoch 25 | Train Loss: 1.4088 | Val Loss: 1.5601 | Train Acc: 0.3446 | Val Acc: 0.3148\n",
      "→ No improvement. Early stopping trigger 2/5\n",
      "Epoch 26 | Train Loss: 1.3597 | Val Loss: 1.5366 | Train Acc: 0.3559 | Val Acc: 0.3241\n",
      "→ No improvement. Early stopping trigger 3/5\n",
      "Epoch 27 | Train Loss: 1.3977 | Val Loss: 1.5458 | Train Acc: 0.3378 | Val Acc: 0.3333\n",
      "→ No improvement. Early stopping trigger 4/5\n",
      "Epoch 28 | Train Loss: 1.3898 | Val Loss: 1.5261 | Train Acc: 0.3288 | Val Acc: 0.3519\n",
      "→ No improvement. Early stopping trigger 5/5\n",
      "→ Early stopping!\n"
     ]
    }
   ],
   "source": [
    "train_loss_hist, val_loss_hist = [], []\n",
    "train_acc_hist, val_acc_hist = [], []\n",
    "best_val_loss = float('inf')\n",
    "patience = 5\n",
    "trigger_times = 0\n",
    "best_model_state = None\n",
    "\n",
    "for epoch in range(50):\n",
    "    model.train()\n",
    "    running_loss, correct, total = 0.0, 0, 0\n",
    "    for xb, yb in train_loader:\n",
    "        xb, yb = xb.to(device), yb.to(device).long()\n",
    "        optimizer.zero_grad()\n",
    "        outputs = model(xb)\n",
    "        loss = criterion(outputs, yb)\n",
    "        loss.backward()\n",
    "        optimizer.step()\n",
    "\n",
    "        running_loss += loss.item()\n",
    "        correct += (outputs.argmax(dim=1) == yb).sum().item()\n",
    "        total += yb.size(0)\n",
    "\n",
    "    train_loss_hist.append(running_loss / len(train_loader))\n",
    "    train_acc_hist.append(correct / total)\n",
    "\n",
    "    \n",
    "    model.eval()\n",
    "    val_loss, val_correct, val_total = 0.0, 0, 0\n",
    "    with torch.no_grad():\n",
    "        for xb, yb in test_loader:\n",
    "            xb, yb = xb.to(device), yb.to(device).long()\n",
    "            outputs = model(xb)\n",
    "            val_loss += criterion(outputs, yb).item()\n",
    "            val_correct += (outputs.argmax(dim=1) == yb).sum().item()\n",
    "            val_total += yb.size(0)\n",
    "\n",
    "    val_loss_epoch = val_loss / len(test_loader)\n",
    "    val_acc_epoch = val_correct / val_total\n",
    "    val_loss_hist.append(val_loss_epoch)\n",
    "    val_acc_hist.append(val_acc_epoch)\n",
    "\n",
    "    print(f\"Epoch {epoch+1:02d} | Train Loss: {train_loss_hist[-1]:.4f} | \"\n",
    "          f\"Val Loss: {val_loss_epoch:.4f} | Train Acc: {train_acc_hist[-1]:.4f} | \"\n",
    "          f\"Val Acc: {val_acc_epoch:.4f}\")\n",
    "\n",
    "    if val_loss_epoch < best_val_loss:\n",
    "        best_val_loss = val_loss_epoch\n",
    "        best_model_state = model.state_dict()\n",
    "        trigger_times = 0\n",
    "    else:\n",
    "        trigger_times += 1\n",
    "        print(f\"→ No improvement. Early stopping trigger {trigger_times}/{patience}\")\n",
    "        if trigger_times >= patience:\n",
    "            print(\"→ Early stopping!\")\n",
    "            break\n",
    "\n",
    "if best_model_state:\n",
    "    model.load_state_dict(best_model_state)"
   ]
  },
  {
   "cell_type": "code",
   "execution_count": 27,
   "id": "3fe70ea1",
   "metadata": {},
   "outputs": [
    {
     "data": {
      "text/plain": [
       "<Figure size 720x576 with 0 Axes>"
      ]
     },
     "metadata": {},
     "output_type": "display_data"
    },
    {
     "data": {
      "image/png": "[encoded data removed]",
      "text/plain": [
       "<Figure size 432x288 with 2 Axes>"
      ]
     },
     "metadata": {
      "needs_background": "light"
     },
     "output_type": "display_data"
    }
   ],
   "source": [
    "def plot_confusion_matrix(cm, class_names):\n",
    "    plt.figure(figsize=(10, 8))\n",
    "    disp = ConfusionMatrixDisplay(confusion_matrix=cm, display_labels=class_names)\n",
    "    disp.plot(cmap=\"Blues\", values_format='d')\n",
    "    plt.title(\"Confusion Matrix\")\n",
    "    plt.grid(False)\n",
    "    plt.tight_layout()\n",
    "    plt.show()\n",
    "\n",
    "class_names = [str(i) for i in range(12)]  \n",
    "plot_confusion_matrix(conf_matrix, class_names)"
   ]
  },
  {
   "cell_type": "code",
   "execution_count": 33,
   "id": "aa1d598c",
   "metadata": {
    "scrolled": false
   },
   "outputs": [
    {
     "name": "stdout",
     "output_type": "stream",
     "text": [
      "\n",
      " Final Test Accuracy: 35.19%\n",
      "\n",
      "Classification Report:\n",
      "\n",
      "              precision    recall  f1-score   support\n",
      "\n",
      "           0       0.89      0.89      0.89         9\n",
      "           1       0.17      0.11      0.13         9\n",
      "           2       0.10      0.11      0.11         9\n",
      "           3       0.21      0.33      0.26         9\n",
      "           4       0.50      0.44      0.47         9\n",
      "           5       0.50      0.44      0.47         9\n",
      "           6       0.25      0.33      0.29         9\n",
      "           7       0.45      0.56      0.50         9\n",
      "           8       0.22      0.22      0.22         9\n",
      "           9       0.17      0.11      0.13         9\n",
      "          10       0.38      0.33      0.35         9\n",
      "          11       0.43      0.33      0.38         9\n",
      "\n",
      "    accuracy                           0.35       108\n",
      "   macro avg       0.36      0.35      0.35       108\n",
      "weighted avg       0.36      0.35      0.35       108\n",
      "\n"
     ]
    }
   ],
   "source": [
    "model.eval()\n",
    "\n",
    "all_preds, all_labels = [], []\n",
    "with torch.no_grad():\n",
    "    for xb, yb in test_loader:\n",
    "        xb = xb.to(device)\n",
    "        preds = model(xb).argmax(dim=1).cpu().numpy()\n",
    "        all_preds.extend(preds)\n",
    "        all_labels.extend(yb.numpy())\n",
    "\n",
    "test_accuracy = accuracy_score(all_labels, all_preds)\n",
    "classification_rep = classification_report(all_labels, all_preds, digits=2, zero_division=0)\n",
    "conf_matrix = confusion_matrix(all_labels, all_preds)\n",
    "\n",
    "print(f\"\\n Final Test Accuracy: {test_accuracy:.2%}\\n\")\n",
    "print(\"Classification Report:\\n\")\n",
    "print(classification_rep)"
   ]
  },
  {
   "cell_type": "code",
   "execution_count": 35,
   "id": "d5c7bfea",
   "metadata": {},
   "outputs": [
    {
     "name": "stdout",
     "output_type": "stream",
     "text": [
      "Top-3 Accuracy: 62.04%\n"
     ]
    }
   ],
   "source": [
    "top3_correct = 0\n",
    "with torch.no_grad():\n",
    "    for xb, yb in test_loader:\n",
    "        xb = xb.to(device)\n",
    "        top3 = model(xb).topk(3, dim=1).indices.cpu()\n",
    "        top3_correct += (top3 == yb.unsqueeze(1)).any(dim=1).sum().item()\n",
    "\n",
    "top3_acc = top3_correct / len(test_loader.dataset)\n",
    "print(f\"Top-3 Accuracy: {top3_acc:.2%}\")\n"
   ]
  },
  {
   "cell_type": "markdown",
   "id": "afb699d5",
   "metadata": {},
   "source": [
    "The top-3 accuracy shows that the model understands certain class boundaries to a good extent(0,4,5).\n",
    "It tells us that 2/3 chances it willl predict the right class"
   ]
  },
  {
   "cell_type": "code",
   "execution_count": 36,
   "id": "94f9983a",
   "metadata": {},
   "outputs": [
    {
     "data": {
      "image/png": "[encoded data removed]",
      "text/plain": [
       "<Figure size 432x360 with 1 Axes>"
      ]
     },
     "metadata": {
      "needs_background": "light"
     },
     "output_type": "display_data"
    },
    {
     "data": {
      "image/png": "[encoded data removed]",
      "text/plain": [
       "<Figure size 432x360 with 1 Axes>"
      ]
     },
     "metadata": {
      "needs_background": "light"
     },
     "output_type": "display_data"
    }
   ],
   "source": [
    "plt.figure(figsize=(6, 5))\n",
    "plt.plot(train_loss_hist, label='Train Loss')\n",
    "plt.plot(val_loss_hist, label='Val Loss')\n",
    "plt.xlabel('Epoch'); plt.ylabel('Loss')\n",
    "plt.title('Loss over Epochs')\n",
    "plt.legend(); plt.grid(True)\n",
    "plt.show()\n",
    "\n",
    "plt.figure(figsize=(6, 5))\n",
    "plt.plot(train_acc_hist, label='Train Acc')\n",
    "plt.plot(val_acc_hist, label='Val Acc')\n",
    "plt.xlabel('Epoch'); plt.ylabel('Accuracy')\n",
    "plt.title('Accuracy over Epochs')\n",
    "plt.legend(); plt.grid(True)\n",
    "plt.show()"
   ]
  },
  {
   "cell_type": "markdown",
   "id": "e0383dff",
   "metadata": {},
   "source": [
    "Testing (with 3 given .mp3 files)"
   ]
  },
  {
   "cell_type": "code",
   "execution_count": 37,
   "id": "da648e2b",
   "metadata": {},
   "outputs": [],
   "source": [
    "def preprocess_audio_librosa(file_path, target_sr=22050, target_shape=(128, 517)):\n",
    "    y, sr = librosa.load(file_path, sr=target_sr)\n",
    "    num_samples = target_sr * 3\n",
    "    if len(y) > num_samples:\n",
    "        y = y[:num_samples]\n",
    "    else:\n",
    "        y = np.pad(y, (0, num_samples - len(y)))\n",
    "\n",
    "    mel_spec = librosa.feature.melspectrogram(y=y, sr=target_sr, n_mels=128)\n",
    "    spec_db = librosa.power_to_db(mel_spec, ref=np.max)\n",
    "    spec_db = (spec_db - np.mean(spec_db)) / (np.std(spec_db) + 1e-6)\n",
    "\n",
    "    if spec_db.shape[1] > target_shape[1]:\n",
    "        spec_db = spec_db[:, :target_shape[1]]\n",
    "    elif spec_db.shape[1] < target_shape[1]:\n",
    "        pad_width = target_shape[1] - spec_db.shape[1]\n",
    "        spec_db = np.pad(spec_db, ((0, 0), (0, pad_width)))\n",
    "\n",
    "    tensor = torch.tensor(spec_db, dtype=torch.float32).unsqueeze(0).unsqueeze(0)\n",
    "    return tensor"
   ]
  },
  {
   "cell_type": "code",
   "execution_count": 41,
   "id": "b5c91854",
   "metadata": {},
   "outputs": [],
   "source": [
    "def predict_from_mp3(model, file_path, class_labels):\n",
    "    model.eval()\n",
    "    x = preprocess_audio_librosa(file_path).to(device)\n",
    "    with torch.no_grad():\n",
    "        logits = model(x)\n",
    "        probs = torch.softmax(logits, dim=1).cpu().numpy().flatten()\n",
    "        top3_idx = probs.argsort()[-3:][::-1]\n",
    "        return [(class_labels[i], probs[i]) for i in top3_idx]"
   ]
  },
  {
   "cell_type": "code",
   "execution_count": 43,
   "id": "523c73dc",
   "metadata": {
    "scrolled": true
   },
   "outputs": [
    {
     "name": "stdout",
     "output_type": "stream",
     "text": [
      "     file           Top-1           Top-2           Top-3\n",
      "test1.mp3 amecro (21.66%) whcspa (14.08%) norfli (12.16%)\n",
      "test2.mp3 amecro (17.91%) whcspa (14.32%) norfli (12.55%)\n",
      "test3.mp3 amecro (21.73%) whcspa (14.48%) norfli (12.78%)\n"
     ]
    }
   ],
   "source": [
    "test_files = [\n",
    "    \"test1.mp3\",\n",
    "    \"test2.mp3\",\n",
    "    \"test3.mp3\"\n",
    "]\n",
    "\n",
    "class_labels = ['amecro', 'amerob', 'bewwre', 'bkcchi', 'daejun', 'houfin',\n",
    "                'houspa', 'norfli', 'rewbla', 'sonspa', 'spotow', 'whcspa']\n",
    "\n",
    "results = []\n",
    "for file_path in test_files:\n",
    "    top_preds = predict_from_mp3(model, file_path, class_labels)\n",
    "    row = {\n",
    "        \"file\": os.path.basename(file_path),\n",
    "        \"Top-1\": f\"{top_preds[0][0]} ({top_preds[0][1]:.2%})\",\n",
    "        \"Top-2\": f\"{top_preds[1][0]} ({top_preds[1][1]:.2%})\",\n",
    "        \"Top-3\": f\"{top_preds[2][0]} ({top_preds[2][1]:.2%})\"\n",
    "    }\n",
    "    results.append(row)\n",
    "\n",
    "df = pd.DataFrame(results)\n",
    "print(df.to_string(index=False))\n"
   ]
  }
 ],
 "metadata": {
  "kernelspec": {
   "display_name": "Python 3 (ipykernel)",
   "language": "python",
   "name": "python3"
  },
  "language_info": {
   "codemirror_mode": {
    "name": "ipython",
    "version": 3
   },
   "file_extension": ".py",
   "mimetype": "text/x-python",
   "name": "python",
   "nbconvert_exporter": "python",
   "pygments_lexer": "ipython3",
   "version": "3.10.5"
  }
 },
 "nbformat": 4,
 "nbformat_minor": 5
}
